{
 "cells": [
  {
   "cell_type": "markdown",
   "metadata": {},
   "source": [
    "# Evaluating Finger on Finger-news and Finger-tweets\n",
    "This notebook contains the code to run first run Finger on a geocorpus and then evaluate its performance. The output are the metrics discussed in the thesis and a error curve plot."
   ]
  },
  {
   "cell_type": "code",
   "execution_count": 1,
   "metadata": {},
   "outputs": [],
   "source": [
    "import pandas as pd, numpy as np\n",
    "# for the toponym resolution evaluation\n",
    "from geopy.distance import distance\n",
    "# for plotting the error curves\n",
    "import matplotlib.pyplot as plt\n",
    "# for reading in the dataframes properly\n",
    "import ast"
   ]
  },
  {
   "cell_type": "code",
   "execution_count": 42,
   "metadata": {},
   "outputs": [],
   "source": [
    "# comment and uncomment to select corpus\n",
    "#corpus = \"fingertweets\"\n",
    "corpus = \"fingernews\""
   ]
  },
  {
   "cell_type": "markdown",
   "metadata": {},
   "source": [
    "## Running Finger on a corpus"
   ]
  },
  {
   "cell_type": "markdown",
   "metadata": {},
   "source": [
    "My intention is to make Finger a Python package. If it already is, replace the codeblock below with a simple import. Until then, I had to explicitly set the path to the .py files and import it from there (or start a console session in the folder)"
   ]
  },
  {
   "cell_type": "code",
   "execution_count": 3,
   "metadata": {},
   "outputs": [],
   "source": [
    "import sys\n",
    "sys.path.insert(0, 'C:/Users/myusername/path/Geoparser_files/')\n",
    "from geoparser import geoparser"
   ]
  },
  {
   "cell_type": "code",
   "execution_count": 4,
   "metadata": {},
   "outputs": [],
   "source": [
    "parser = geoparser(gn_username=[\"my_user_name\", \"my_second_user_name\"],verbose=True, use_gpu=False)"
   ]
  },
  {
   "cell_type": "markdown",
   "metadata": {},
   "source": [
    "Getting the input texts as a list. Finger is built for batch processing and prefers lists of texts like these."
   ]
  },
  {
   "cell_type": "code",
   "execution_count": 43,
   "metadata": {},
   "outputs": [],
   "source": [
    "corp = pd.read_csv(\"./input_data/{}_gold_df.csv\".format(corpus))\n",
    "\n",
    "inp = corp['input_text'].unique().tolist()"
   ]
  },
  {
   "cell_type": "code",
   "execution_count": 44,
   "metadata": {},
   "outputs": [
    {
     "name": "stdout",
     "output_type": "stream",
     "text": [
      "Vuodenvaihteen jälkeen 336 kuntaa – Wikiuutiset\n",
      "1. tammikuuta 2011\n",
      "Vuoden alussa tapahtui kuusi kuntaliitosta, joiden jäljiltä Suomessa on 336 kuntaa. Samalla Itä-Uudenmaan maakunta liitettiin Uudenmaan maakuntaan ja Kaakkois-Pirkanmaan seutukunta lakkautettiin, jolloin seutukuntien lukumäärä Suomessa väheni 70:een.\n",
      "Pirkanmaan kahdessa kuntaliitoksessa Kylmäkoski liittyi Akaan kaupunkiin ja Kuhmalahti Kangasalan kuntaan. Pohjois-Savossa Karttula yhdistyi Kuopion kaupunkiin ja Varpaisjärvi Lapinlahden kuntaan. Pohjanmaan maakunnassa Vöyri-Maksamaan ja Oravaisten kunnat muodostivat Vöyrin kunnan ja Päijät-Hämeessä Artjärvi liittyi osaksi Orimattilaa.\n",
      "\n",
      "42\n"
     ]
    }
   ],
   "source": [
    "# this is an example of what's given as input – a simple string\n",
    "print(inp[0])\n",
    "print(len(inp))"
   ]
  },
  {
   "cell_type": "code",
   "execution_count": null,
   "metadata": {},
   "outputs": [],
   "source": [
    "# filter_toponyms = applies a filtering on almost certain false positives (currently just extremely short hits, pretty much always emojis)\n",
    "# explode_df = each toponym hit is in its own row\n",
    "res = parser.geoparse(inp, explode_df=True, filter_toponyms=True)"
   ]
  },
  {
   "cell_type": "markdown",
   "metadata": {},
   "source": [
    "Save the result as a csv (you could probably pickle this, too):"
   ]
  },
  {
   "cell_type": "code",
   "execution_count": 11,
   "metadata": {},
   "outputs": [],
   "source": [
    "res.to_csv(\"./input_data/{}_pred_df.csv\".format(corpus))"
   ]
  },
  {
   "cell_type": "markdown",
   "metadata": {},
   "source": [
    "Reading back in a dataframe as from a CSV is a hassle in this case because the data types are all wrong. The codes below should treat them right. The evaluation codes below assume the dataframes are in an \"exploded\" format, so that each row contains one or zero toponyms, no lists of toponyms/coords. If you want to explode the dataframes posthumously, check the Formatting notebook."
   ]
  },
  {
   "cell_type": "code",
   "execution_count": 45,
   "metadata": {},
   "outputs": [],
   "source": [
    "pred_fp = \"./input_data/{}_pred_df.csv\".format(corpus)\n",
    "\n",
    "preds = pd.read_csv(pred_fp, index_col=0)\n",
    "preds.drop(\"doc\", axis=1, inplace=True)\n",
    "preds.replace([np.nan], [None], inplace=True)\n",
    "preds['coord_points'] = preds['coord_points'].apply(lambda x: ast.literal_eval(str(x)))\n",
    "preds['loc_spans'] = preds['loc_spans'].apply(lambda x: ast.literal_eval(str(x)))\n",
    "preds['coord_points'] = preds['coord_points'].str[0]\n",
    "\n",
    "gold_fp = \"./input_data/{}_gold_df.csv\".format(corpus)\n",
    "\n",
    "golds = pd.read_csv(gold_fp, index_col=0)\n",
    "golds.replace([np.nan], [None], inplace=True)\n",
    "golds['coord_points'] = golds['coord_points'].apply(lambda x: ast.literal_eval(str(x)))\n",
    "golds['loc_spans'] = golds['loc_spans'].apply(lambda x: ast.literal_eval(str(x)))"
   ]
  },
  {
   "cell_type": "code",
   "execution_count": 153,
   "metadata": {},
   "outputs": [
    {
     "data": {
      "text/plain": [
       "214"
      ]
     },
     "execution_count": 153,
     "metadata": {},
     "output_type": "execute_result"
    }
   ],
   "source": [
    "len(preds[preds['locations_found']])"
   ]
  },
  {
   "cell_type": "markdown",
   "metadata": {},
   "source": [
    "## Evaluation\n",
    "\n",
    "The evaluation code is heavily inspired by Milan Gritta's code for Gritta et al.'s paper \"A pragmatic guide to geoparsing evaluation\", [see here](https://github.com/milangritta/WhatsMissingInGeoparsing/blob/master/methods.py).\n",
    "\n",
    "#### IMPORTANT NOTE: The evaluation code assumes the predictions and golds are in the same order. I know this is a weakness, a better solution could probably be crafted. Eh."
   ]
  },
  {
   "cell_type": "code",
   "execution_count": 167,
   "metadata": {},
   "outputs": [],
   "source": [
    "def evaluate_corpus(golds, preds, inspect=False):\n",
    "    \"\"\"Inputs: Gold and prediction dataframes that follow Finger's naming conventions.\n",
    "    \n",
    "    inspect=print closer examination of some error cause. Give strings to indicate which error to examine. \n",
    "    options: recognition, resolve, lemma\n",
    "    \n",
    "    Outputs: a list of count of true positives, false positives and false negatives; a list of error distances in km\"\"\"\n",
    "    \n",
    "    # below are counters\n",
    "    # true positive\n",
    "    tp=0\n",
    "    # false positive\n",
    "    fp=0\n",
    "    # false negative\n",
    "    fn=0\n",
    "    \n",
    "    # these are used for error analysis\n",
    "    missing_pred = 0\n",
    "    missing_gold = 0\n",
    "    geocode_results = []\n",
    "    \n",
    "    # grouping the exploded \n",
    "    gold_groups = golds.groupby('input_order')\n",
    "    pred_groups = preds.groupby('input_order')\n",
    "    \n",
    "    # loop through the groups; because the golds and predictions are in the same order\n",
    "    # the groups always correspond to the same input documents\n",
    "    for (g_key, g_group), (p_key, p_group) in zip(gold_groups, pred_groups):\n",
    "        positive_hits=0\n",
    "        \n",
    "        # shorthand code to skip unnecessary processing below\n",
    "        # while treating all cases the same would've been wise, removing the code below caused trouble\n",
    "        # if both groups are empty OR either of the groups are empty, while the other is not\n",
    "        # 1. Both empty: skip further processing\n",
    "        # 2. Toponyms in gold but not in prediction: add group length to false positives\n",
    "        # 3. Toponyms in predictopn but not in gold: add group length to false negatives\n",
    "        if g_group['locations'].loc[g_key] is None and p_group['locations'].loc[p_key] is None:\n",
    "            continue\n",
    "        elif g_group['locations'].loc[g_key] is None and p_group['locations'].loc[p_key] is not None:\n",
    "            if inspect==\"recognition\":\n",
    "                try:\n",
    "                    print(\"False positives\\t\", p_group['locations'].loc[p_key].tolist())\n",
    "                except:\n",
    "                    print(\"False positives\\t\", p_group['locations'].loc[p_key])\n",
    "            fp += len(p_group)\n",
    "            continue\n",
    "        elif g_group['locations'].loc[g_key] is not None and p_group['locations'].loc[p_key] is None:\n",
    "            if inspect==\"recognition\":\n",
    "                try:\n",
    "                    print(\"False negatives\\t\", g_group['locations'].loc[g_key].tolist())\n",
    "                except:\n",
    "                    print(\"False negatives\\t\", g_group['locations'].loc[g_key])\n",
    "\n",
    "            fn += len(g_group)\n",
    "            continue\n",
    "\n",
    "\n",
    "        # if both have toponyms,try to find matches by spans and toponym texts\n",
    "        for g_location, g_span, g_coord in zip(g_group['locations'], g_group['loc_spans'], g_group['coord_points']):\n",
    "            match=False\n",
    "            fn_flag = False\n",
    "\n",
    "\n",
    "            # for each gold toponym, loop through predictions\n",
    "            # if matches, raise a flag and add to positive matches on this loop\n",
    "            for p_location, p_lemma, p_span, p_coord in zip(p_group['locations'],p_group['loc_lemmas'], p_group['loc_spans'], p_group['coord_points']):\n",
    "\n",
    "\n",
    "                # get the mean position of the spans\n",
    "                mean_g_span = sum(g_span) / 2\n",
    "                mean_p_span = sum(p_span) / 2\n",
    "\n",
    "                # if the toponym strings match AND the mean of the spans spans are within 4 numbers, marks as match\n",
    "                # I noticed emojis caused some weird inconsistencies in the gold vs pred spans\n",
    "                # which is why exact span isn't used\n",
    "                if abs(mean_g_span - mean_p_span) <= 4 and g_location.lower() == p_location.lower():\n",
    "                    match=True\n",
    "                    positive_hits += 1\n",
    "\n",
    "                    if g_coord:\n",
    "                        if p_coord:\n",
    "                            # lonlat -> latlon\n",
    "                            # because that format used by geopy\n",
    "                            # BTW, this is geodesic distance on the default WGS84 ellipsoid\n",
    "                            p_coord = tuple(reversed(p_coord))\n",
    "                            g_coord = tuple(reversed(g_coord))\n",
    "\n",
    "                            error_distance = distance(p_coord, g_coord).kilometers\n",
    "                            \n",
    "                            if inspect==\"resolve\":\n",
    "                                if error_distance > 1:\n",
    "                                    print(\"ERROR DISTANCE:\\t\",p_lemma, round(error_distance,1), g_location)\n",
    "\n",
    "                            geocode_results.append(error_distance)\n",
    "                            \"\"\"\n",
    "                            if inspect==\"lemma\":\n",
    "                                print(p_lemma, round(error_distance,1), g_location)\n",
    "                            \"\"\"\n",
    "\n",
    "                        else:\n",
    "                            missing_pred += 1\n",
    "                            \n",
    "                            if inspect==\"resolve\" or inspect==\"lemma\":\n",
    "                                print(\"Prediction missing:\\t\", p_lemma, \"Gold is:\", g_location)\n",
    "\n",
    "            if match:\n",
    "                tp += 1\n",
    "            else:\n",
    "                fn += 1\n",
    "                if inspect==\"recognition\":\n",
    "                    reach = 30\n",
    "                    if int(g_span[0])-reach < 0:\n",
    "                        st = 0\n",
    "                    else:\n",
    "                        st = int(g_span[0])-reach\n",
    "                    if int(g_span[1])+reach > len( g_group['input_text'].iloc[0]):\n",
    "                        ed = len( g_group['input_text'].iloc[0])\n",
    "                    else:\n",
    "                        ed = int(g_span[1])+reach\n",
    "                    \n",
    "                    print(fn, \"No matching pred found for gold:\", g_location, \"\\n\", g_group['input_text'].iloc[0][st:ed])\n",
    "                    print(\"Options:\", p_group['locations'].tolist())\n",
    "                    print(\"Golds:\", g_group['locations'].tolist(), \"\\n\")\n",
    "                \n",
    "        if positive_hits < len(p_group):\n",
    "            fp += len(p_group) - positive_hits\n",
    "\n",
    "    print(tp, \"true positives\")\n",
    "    print(fp, \"false positives\")\n",
    "    print(fn, \"false negatives\")\n",
    "\n",
    "    print(missing_pred, \"lemma/geocode loss. In % resolved:\", 100 - round(((missing_pred)/tp)*100,2))\n",
    "    \n",
    "    scores = [tp, fp, fn]\n",
    "    \n",
    "    return scores, geocode_results"
   ]
  },
  {
   "cell_type": "code",
   "execution_count": 169,
   "metadata": {},
   "outputs": [
    {
     "name": "stdout",
     "output_type": "stream",
     "text": [
      "150 true positives\n",
      "64 false positives\n",
      "39 false negatives\n",
      "27 lemma/geocode loss. In % resolved: 82.0\n"
     ]
    }
   ],
   "source": [
    "scores, geocode_results = evaluate_corpus(golds, preds, inspect=\"none\")"
   ]
  },
  {
   "cell_type": "markdown",
   "metadata": {},
   "source": [
    "### Calculating and printing toponym recognition metrics:"
   ]
  },
  {
   "cell_type": "code",
   "execution_count": 170,
   "metadata": {},
   "outputs": [
    {
     "name": "stdout",
     "output_type": "stream",
     "text": [
      "Precision:  0.7009345794392523\n",
      "Recall:     0.7936507936507936\n",
      "F-Score:    0.7444168734491315\n"
     ]
    }
   ],
   "source": [
    "precision = scores[0] / (scores[0] + scores[1])\n",
    "print(\"Precision: \", precision)\n",
    "recall = scores[0] / (scores[0] + scores[2])\n",
    "print(\"Recall:    \", recall)\n",
    "f_score = 2 * precision * recall / (precision + recall)\n",
    "print(\"F-Score:   \", f_score)"
   ]
  },
  {
   "cell_type": "markdown",
   "metadata": {},
   "source": [
    "### Calculating and printing toponym resolution metrics:"
   ]
  },
  {
   "cell_type": "code",
   "execution_count": 171,
   "metadata": {},
   "outputs": [
    {
     "name": "stdout",
     "output_type": "stream",
     "text": [
      "Median:  0.0\n",
      "Mean:  286.13639446305405\n",
      "Accuracy to 161 km:  0.9166666666666666\n",
      "AUC =  0.08292499035439962\n"
     ]
    }
   ],
   "source": [
    "MAX_ERROR = 20039\n",
    "\n",
    "print(\"Median: \", np.median(sorted(geocode_results)))\n",
    "print(\"Mean: \", np.mean(geocode_results))\n",
    "k = 161  # This is the k in accuracy@k metric\n",
    "print(\"Accuracy to 161 km: \", sum([1.0 for dist in geocode_results if dist < k]) / len(geocode_results))\n",
    "\n",
    "# if there was no error (Error Distance = 0 km), 1 is appended to the value to make natural log possible -> else an error\n",
    "auc_geocode_results = [dist_error + 1 if dist_error < 1 else dist_error for dist_error in geocode_results]\n",
    "print(\"AUC = \", np.trapz(np.log(auc_geocode_results)) / (np.log(MAX_ERROR) * (len(auc_geocode_results) - 1)))"
   ]
  },
  {
   "cell_type": "markdown",
   "metadata": {},
   "source": [
    "#### Alternatively, here's a function that writes out the results in a nice text file"
   ]
  },
  {
   "cell_type": "code",
   "execution_count": 53,
   "metadata": {},
   "outputs": [],
   "source": [
    "def write_results_to_file(scores, geocode_results, corpus, k, round_value):\n",
    "    fp = \"./eval_output/{}_evaluation_results.txt\".format(corpus)\n",
    "    precision = round(scores[0] / (scores[0] + scores[1]),round_value)\n",
    "    recall = round(scores[0] / (scores[0] + scores[2]),round_value)\n",
    "    f_score = round(2 * precision * recall / (precision + recall),round_value)\n",
    "    \n",
    "    median_err = round(np.median(sorted(geocode_results)),round_value)\n",
    "    mean_err = round(np.mean(geocode_results),round_value)\n",
    "    acc_k = round(sum([1.0 for dist in geocode_results if dist < k]) / len(geocode_results),round_value)\n",
    "    auc_geocode_results = [dist_error + 1 if dist_error < 1 else dist_error for dist_error in geocode_results]\n",
    "    AUC = round(np.trapz(np.log(auc_geocode_results)) / (np.log(MAX_ERROR) * (len(auc_geocode_results) - 1)),round_value)\n",
    "    \n",
    "    with open(fp, 'w', encoding='utf-8') as f:\n",
    "        f.write(\"Results for {}\".format(corpus))\n",
    "        f.write(\"\\n\")\n",
    "        \n",
    "        f.write(\"Precision: {}\".format(precision))\n",
    "        f.write(\"\\n\")\n",
    "        f.write(\"Recall: {}\".format(recall))\n",
    "        f.write(\"\\n\")\n",
    "        f.write(\"F-Score: {}\".format(f_score))\n",
    "        f.write(\"\\n\")\n",
    "         \n",
    "        f.write(\"Median: {}\".format(median_err))\n",
    "        f.write(\"\\n\")\n",
    "        f.write(\"Mean: {}\".format(mean_err))\n",
    "        f.write(\"\\n\")\n",
    "        f.write(\"Accuracy to {0} km: {1}\".format(k, acc_k))\n",
    "        f.write(\"\\n\")\n",
    "        f.write(\"AUC = {}\".format(AUC))\n",
    "        \n",
    "        f.close()"
   ]
  },
  {
   "cell_type": "code",
   "execution_count": 54,
   "metadata": {},
   "outputs": [],
   "source": [
    "write_results_to_file(scores, geocode_results, corpus, k=161, round_value=3)"
   ]
  },
  {
   "cell_type": "markdown",
   "metadata": {},
   "source": [
    "### Plotting the error distances"
   ]
  },
  {
   "cell_type": "code",
   "execution_count": 55,
   "metadata": {},
   "outputs": [
    {
     "data": {
      "image/png": "[encoded data removed]",
      "text/plain": [
       "<Figure size 792x720 with 1 Axes>"
      ]
     },
     "metadata": {},
     "output_type": "display_data"
    }
   ],
   "source": [
    "# font sizes for different types of texts\n",
    "SMALL_SIZE = 14\n",
    "MEDIUM_SIZE = 21\n",
    "\n",
    "plt.rc('font', size=SMALL_SIZE)          # controls default text sizes\n",
    "plt.rc('axes', titlesize=MEDIUM_SIZE)     # fontsize of the axes title\n",
    "plt.rc('axes', labelsize=MEDIUM_SIZE)    # fontsize of the x and y labels\n",
    "plt.rc('xtick', labelsize=SMALL_SIZE)    # fontsize of the tick labels\n",
    "plt.rc('ytick', labelsize=SMALL_SIZE)    # fontsize of the tick labels\n",
    "plt.rc('legend', fontsize=SMALL_SIZE)    # legend fontsize\n",
    "#plt.rc('figure', titlesize=BIGGER_SIZE)  # fontsize of the figure title\n",
    "\n",
    "plt.style.use('seaborn-whitegrid')\n",
    "\n",
    "fig = plt.plot((sorted(np.log(auc_geocode_results))))\n",
    "plt.rcParams[\"figure.figsize\"] = (11,10)\n",
    "\n",
    "#plt.title('Distribution of geocoding errors in {}.\\nNumber of toponyms: {}'.format(corpus,str(len(auc_geocode_results))))\n",
    "plt.title(corpus.capitalize())\n",
    "plt.ylabel('Natural logarithm of error distance')\n",
    "plt.xlabel('Error distances in ascending order')\n",
    "\n",
    "count_list = []\n",
    "count_list.extend(range(0,len(geocode_results)))\n",
    "\n",
    "plt.fill_between(count_list,(sorted(np.log(auc_geocode_results))), alpha=0.25)\n",
    "\n",
    "plt.xlim([0,len(geocode_results)-1])\n",
    "# y limit is the max possible error\n",
    "plt.ylim([0,np.log(20039)])\n",
    "\n",
    "\n",
    "#plt.show()\n",
    "\n",
    "plt.tight_layout()\n",
    "\n",
    "plt.savefig(\"./eval_output/{}_AUC_plot.png\".format(corpus))"
   ]
  }
 ],
 "metadata": {
  "kernelspec": {
   "display_name": "Python 3",
   "language": "python",
   "name": "python3"
  },
  "language_info": {
   "codemirror_mode": {
    "name": "ipython",
    "version": 3
   },
   "file_extension": ".py",
   "mimetype": "text/x-python",
   "name": "python",
   "nbconvert_exporter": "python",
   "pygments_lexer": "ipython3",
   "version": "3.8.5"
  }
 },
 "nbformat": 4,
 "nbformat_minor": 5
}
